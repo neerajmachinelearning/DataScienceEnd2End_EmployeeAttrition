{
 "cells": [
  {
   "cell_type": "markdown",
   "metadata": {},
   "source": [
    "## Get the processed data and Split it into training and testing"
   ]
  },
  {
   "cell_type": "code",
   "execution_count": 1,
   "metadata": {},
   "outputs": [],
   "source": [
    "import pandas as pd\n",
    "import numpy as np\n",
    "import os"
   ]
  },
  {
   "cell_type": "code",
   "execution_count": 4,
   "metadata": {},
   "outputs": [],
   "source": [
    "# set the path of processed data\n",
    "processed_data_path = os.path.join(os.path.pardir, 'data', 'processed')\n",
    "df_data_path = os.path.join(processed_data_path, 'processed_Data_Employee-Attrition.csv')\n",
    "df = pd.read_csv(df_data_path, index_col='EmployeeNumber')"
   ]
  },
  {
   "cell_type": "code",
   "execution_count": 5,
   "metadata": {},
   "outputs": [
    {
     "data": {
      "text/html": [
       "<div>\n",
       "<style scoped>\n",
       "    .dataframe tbody tr th:only-of-type {\n",
       "        vertical-align: middle;\n",
       "    }\n",
       "\n",
       "    .dataframe tbody tr th {\n",
       "        vertical-align: top;\n",
       "    }\n",
       "\n",
       "    .dataframe thead th {\n",
       "        text-align: right;\n",
       "    }\n",
       "</style>\n",
       "<table border=\"1\" class=\"dataframe\">\n",
       "  <thead>\n",
       "    <tr style=\"text-align: right;\">\n",
       "      <th></th>\n",
       "      <th>Attrition</th>\n",
       "      <th>Age</th>\n",
       "      <th>DailyRate</th>\n",
       "      <th>DistanceFromHome</th>\n",
       "      <th>Education</th>\n",
       "      <th>EnvironmentSatisfaction</th>\n",
       "      <th>Gender</th>\n",
       "      <th>HourlyRate</th>\n",
       "      <th>JobInvolvement</th>\n",
       "      <th>JobLevel</th>\n",
       "      <th>...</th>\n",
       "      <th>JobRole_Laboratory Technician</th>\n",
       "      <th>JobRole_Manager</th>\n",
       "      <th>JobRole_Manufacturing Director</th>\n",
       "      <th>JobRole_Research Director</th>\n",
       "      <th>JobRole_Research Scientist</th>\n",
       "      <th>JobRole_Sales Executive</th>\n",
       "      <th>JobRole_Sales Representative</th>\n",
       "      <th>MaritalStatus_Divorced</th>\n",
       "      <th>MaritalStatus_Married</th>\n",
       "      <th>MaritalStatus_Single</th>\n",
       "    </tr>\n",
       "    <tr>\n",
       "      <th>EmployeeNumber</th>\n",
       "      <th></th>\n",
       "      <th></th>\n",
       "      <th></th>\n",
       "      <th></th>\n",
       "      <th></th>\n",
       "      <th></th>\n",
       "      <th></th>\n",
       "      <th></th>\n",
       "      <th></th>\n",
       "      <th></th>\n",
       "      <th></th>\n",
       "      <th></th>\n",
       "      <th></th>\n",
       "      <th></th>\n",
       "      <th></th>\n",
       "      <th></th>\n",
       "      <th></th>\n",
       "      <th></th>\n",
       "      <th></th>\n",
       "      <th></th>\n",
       "      <th></th>\n",
       "    </tr>\n",
       "  </thead>\n",
       "  <tbody>\n",
       "    <tr>\n",
       "      <td>1</td>\n",
       "      <td>1</td>\n",
       "      <td>41</td>\n",
       "      <td>1102</td>\n",
       "      <td>1</td>\n",
       "      <td>2</td>\n",
       "      <td>2</td>\n",
       "      <td>0</td>\n",
       "      <td>94</td>\n",
       "      <td>3</td>\n",
       "      <td>2</td>\n",
       "      <td>...</td>\n",
       "      <td>0</td>\n",
       "      <td>0</td>\n",
       "      <td>0</td>\n",
       "      <td>0</td>\n",
       "      <td>0</td>\n",
       "      <td>1</td>\n",
       "      <td>0</td>\n",
       "      <td>0</td>\n",
       "      <td>0</td>\n",
       "      <td>1</td>\n",
       "    </tr>\n",
       "    <tr>\n",
       "      <td>2</td>\n",
       "      <td>0</td>\n",
       "      <td>49</td>\n",
       "      <td>279</td>\n",
       "      <td>8</td>\n",
       "      <td>1</td>\n",
       "      <td>3</td>\n",
       "      <td>1</td>\n",
       "      <td>61</td>\n",
       "      <td>2</td>\n",
       "      <td>2</td>\n",
       "      <td>...</td>\n",
       "      <td>0</td>\n",
       "      <td>0</td>\n",
       "      <td>0</td>\n",
       "      <td>0</td>\n",
       "      <td>1</td>\n",
       "      <td>0</td>\n",
       "      <td>0</td>\n",
       "      <td>0</td>\n",
       "      <td>1</td>\n",
       "      <td>0</td>\n",
       "    </tr>\n",
       "    <tr>\n",
       "      <td>4</td>\n",
       "      <td>1</td>\n",
       "      <td>37</td>\n",
       "      <td>1373</td>\n",
       "      <td>2</td>\n",
       "      <td>2</td>\n",
       "      <td>4</td>\n",
       "      <td>1</td>\n",
       "      <td>92</td>\n",
       "      <td>2</td>\n",
       "      <td>1</td>\n",
       "      <td>...</td>\n",
       "      <td>1</td>\n",
       "      <td>0</td>\n",
       "      <td>0</td>\n",
       "      <td>0</td>\n",
       "      <td>0</td>\n",
       "      <td>0</td>\n",
       "      <td>0</td>\n",
       "      <td>0</td>\n",
       "      <td>0</td>\n",
       "      <td>1</td>\n",
       "    </tr>\n",
       "    <tr>\n",
       "      <td>5</td>\n",
       "      <td>0</td>\n",
       "      <td>33</td>\n",
       "      <td>1392</td>\n",
       "      <td>3</td>\n",
       "      <td>4</td>\n",
       "      <td>4</td>\n",
       "      <td>0</td>\n",
       "      <td>56</td>\n",
       "      <td>3</td>\n",
       "      <td>1</td>\n",
       "      <td>...</td>\n",
       "      <td>0</td>\n",
       "      <td>0</td>\n",
       "      <td>0</td>\n",
       "      <td>0</td>\n",
       "      <td>1</td>\n",
       "      <td>0</td>\n",
       "      <td>0</td>\n",
       "      <td>0</td>\n",
       "      <td>1</td>\n",
       "      <td>0</td>\n",
       "    </tr>\n",
       "    <tr>\n",
       "      <td>7</td>\n",
       "      <td>0</td>\n",
       "      <td>27</td>\n",
       "      <td>591</td>\n",
       "      <td>2</td>\n",
       "      <td>1</td>\n",
       "      <td>1</td>\n",
       "      <td>1</td>\n",
       "      <td>40</td>\n",
       "      <td>3</td>\n",
       "      <td>1</td>\n",
       "      <td>...</td>\n",
       "      <td>1</td>\n",
       "      <td>0</td>\n",
       "      <td>0</td>\n",
       "      <td>0</td>\n",
       "      <td>0</td>\n",
       "      <td>0</td>\n",
       "      <td>0</td>\n",
       "      <td>0</td>\n",
       "      <td>1</td>\n",
       "      <td>0</td>\n",
       "    </tr>\n",
       "  </tbody>\n",
       "</table>\n",
       "<p>5 rows × 49 columns</p>\n",
       "</div>"
      ],
      "text/plain": [
       "                Attrition  Age  DailyRate  DistanceFromHome  Education  \\\n",
       "EmployeeNumber                                                           \n",
       "1                       1   41       1102                 1          2   \n",
       "2                       0   49        279                 8          1   \n",
       "4                       1   37       1373                 2          2   \n",
       "5                       0   33       1392                 3          4   \n",
       "7                       0   27        591                 2          1   \n",
       "\n",
       "                EnvironmentSatisfaction  Gender  HourlyRate  JobInvolvement  \\\n",
       "EmployeeNumber                                                                \n",
       "1                                     2       0          94               3   \n",
       "2                                     3       1          61               2   \n",
       "4                                     4       1          92               2   \n",
       "5                                     4       0          56               3   \n",
       "7                                     1       1          40               3   \n",
       "\n",
       "                JobLevel  ...  JobRole_Laboratory Technician  JobRole_Manager  \\\n",
       "EmployeeNumber            ...                                                   \n",
       "1                      2  ...                              0                0   \n",
       "2                      2  ...                              0                0   \n",
       "4                      1  ...                              1                0   \n",
       "5                      1  ...                              0                0   \n",
       "7                      1  ...                              1                0   \n",
       "\n",
       "                JobRole_Manufacturing Director  JobRole_Research Director  \\\n",
       "EmployeeNumber                                                              \n",
       "1                                            0                          0   \n",
       "2                                            0                          0   \n",
       "4                                            0                          0   \n",
       "5                                            0                          0   \n",
       "7                                            0                          0   \n",
       "\n",
       "                JobRole_Research Scientist  JobRole_Sales Executive  \\\n",
       "EmployeeNumber                                                        \n",
       "1                                        0                        1   \n",
       "2                                        1                        0   \n",
       "4                                        0                        0   \n",
       "5                                        1                        0   \n",
       "7                                        0                        0   \n",
       "\n",
       "                JobRole_Sales Representative  MaritalStatus_Divorced  \\\n",
       "EmployeeNumber                                                         \n",
       "1                                          0                       0   \n",
       "2                                          0                       0   \n",
       "4                                          0                       0   \n",
       "5                                          0                       0   \n",
       "7                                          0                       0   \n",
       "\n",
       "                MaritalStatus_Married  MaritalStatus_Single  \n",
       "EmployeeNumber                                               \n",
       "1                                   0                     1  \n",
       "2                                   1                     0  \n",
       "4                                   0                     1  \n",
       "5                                   1                     0  \n",
       "7                                   1                     0  \n",
       "\n",
       "[5 rows x 49 columns]"
      ]
     },
     "execution_count": 5,
     "metadata": {},
     "output_type": "execute_result"
    }
   ],
   "source": [
    "df.head()"
   ]
  },
  {
   "cell_type": "code",
   "execution_count": 6,
   "metadata": {},
   "outputs": [
    {
     "name": "stderr",
     "output_type": "stream",
     "text": [
      "/Applications/anaconda3/lib/python3.7/site-packages/ipykernel_launcher.py:4: FutureWarning: Method .as_matrix will be removed in a future version. Use .values instead.\n",
      "  after removing the cwd from sys.path.\n"
     ]
    }
   ],
   "source": [
    "#as_matrix creates a matrix and astype change all the value to type float\n",
    "#ravel is numpy function which creates a one dimention array with values from columns specified. \n",
    "\n",
    "X = df.loc[:,'Age':].as_matrix().astype('float')\n",
    "y = df['Attrition'].ravel()"
   ]
  },
  {
   "cell_type": "code",
   "execution_count": 7,
   "metadata": {},
   "outputs": [
    {
     "name": "stdout",
     "output_type": "stream",
     "text": [
      "(1470, 48) (1470,)\n"
     ]
    }
   ],
   "source": [
    "print(X.shape, y.shape)"
   ]
  },
  {
   "cell_type": "code",
   "execution_count": 12,
   "metadata": {},
   "outputs": [
    {
     "name": "stdout",
     "output_type": "stream",
     "text": [
      "(1146, 48) (1146,)\n",
      "(324, 48) (324,)\n"
     ]
    }
   ],
   "source": [
    "#split the data into two parts training and testing\n",
    "# train test split\n",
    "from sklearn.model_selection import train_test_split\n",
    "X_train, X_test, y_train, y_test = train_test_split(X, y, test_size=0.22, random_state=0)\n",
    "print(X_train.shape, y_train.shape)\n",
    "print(X_test.shape, y_test.shape)"
   ]
  },
  {
   "cell_type": "code",
   "execution_count": 13,
   "metadata": {},
   "outputs": [
    {
     "name": "stdout",
     "output_type": "stream",
     "text": [
      "Mean Attrition in train : 0.16055846422338568\n",
      "Mean Attirtion in test : 0.16358024691358025\n"
     ]
    }
   ],
   "source": [
    "# Average Attrition in train and test \n",
    "print(f\"Mean Attrition in train : {np.mean(y_train)}\")\n",
    "print(f\"Mean Attirtion in test : {np.mean(y_test)}\")  "
   ]
  },
  {
   "cell_type": "markdown",
   "metadata": {},
   "source": [
    "### Observations\n",
    "\n",
    " - ***First observation is Mean Attrition in train and test data are almost equal that shows that the data is split properly. We do not want too much difference in mean in other words We want positive cases to be distributed evenly in both trainig and test data.***\n",
    "\n",
    " - ***Second observation is almost of 16% of Attrition values are 1 rest are 0. We can use this information to build our base line model.*** "
   ]
  },
  {
   "cell_type": "markdown",
   "metadata": {},
   "source": [
    "## Baseline Model\n",
    "\n",
    " - **DummyClassifier** - Strategy to use to generate predictions.\n",
    "\n",
    "      - “stratified”: generates predictions by respecting the training set’s class distribution.\n",
    "      - “most_frequent”: always predicts the most frequent label in the training set.\n",
    "      - “prior”: always predicts the class that maximizes the class prior (like “most_frequent”) and predict_proba          returns the class prior.\n",
    "      - “uniform”: generates predictions uniformly at random.\n",
    "      - “constant”: always predicts a constant label that is provided by the user. This is useful for metrics that          evaluate a non-majority class"
   ]
  },
  {
   "cell_type": "code",
   "execution_count": 15,
   "metadata": {},
   "outputs": [],
   "source": [
    "from sklearn.dummy import DummyClassifier"
   ]
  },
  {
   "cell_type": "code",
   "execution_count": 16,
   "metadata": {},
   "outputs": [],
   "source": [
    "# create base line Model with the value of most_requent\n",
    "model_dummy = DummyClassifier(strategy='most_frequent', random_state=0)"
   ]
  },
  {
   "cell_type": "code",
   "execution_count": 17,
   "metadata": {},
   "outputs": [
    {
     "data": {
      "text/plain": [
       "DummyClassifier(constant=None, random_state=0, strategy='most_frequent')"
      ]
     },
     "execution_count": 17,
     "metadata": {},
     "output_type": "execute_result"
    }
   ],
   "source": [
    "# fit your training data to the model to learn\n",
    "model_dummy.fit(X_train, y_train)"
   ]
  },
  {
   "cell_type": "code",
   "execution_count": 18,
   "metadata": {},
   "outputs": [
    {
     "name": "stdout",
     "output_type": "stream",
     "text": [
      "Score for baseline Model: 0.8364197530864198\n"
     ]
    }
   ],
   "source": [
    "# provide your test values it will compare your predicted value to the actual value in test data set and provide score. \n",
    "print(f\"Score for baseline Model: {model_dummy.score(X_test, y_test)}\")"
   ]
  },
  {
   "cell_type": "code",
   "execution_count": 20,
   "metadata": {},
   "outputs": [],
   "source": [
    "# performance matrics\n",
    "from sklearn.metrics import accuracy_score, confusion_matrix, precision_score, recall_score"
   ]
  },
  {
   "cell_type": "code",
   "execution_count": 21,
   "metadata": {},
   "outputs": [
    {
     "name": "stdout",
     "output_type": "stream",
     "text": [
      "Accurancy for baseline model: 0.8364197530864198\n",
      "Precision for baseline model: 0.0\n",
      "Recall for baseline model: 0.0\n"
     ]
    },
    {
     "name": "stderr",
     "output_type": "stream",
     "text": [
      "/Applications/anaconda3/lib/python3.7/site-packages/sklearn/metrics/classification.py:1437: UndefinedMetricWarning: Precision is ill-defined and being set to 0.0 due to no predicted samples.\n",
      "  'precision', 'predicted', average, warn_for)\n"
     ]
    }
   ],
   "source": [
    "#print Accuracy, Precission and Recall\n",
    "print(f\"Accurancy for baseline model: {accuracy_score(y_test, model_dummy.predict(X_test))}\")\n",
    "print(f\"Precision for baseline model: {precision_score(y_test, model_dummy.predict(X_test))}\")\n",
    "print(f\"Recall for baseline model: {recall_score(y_test, model_dummy.predict(X_test))}\")"
   ]
  },
  {
   "cell_type": "markdown",
   "metadata": {},
   "source": [
    "- **Accuracy** - Compare predicted output with actual output. \n",
    "     - Accuracy = Correct / Total Count\n",
    "     \n",
    " - **Precision & Recall**: \n",
    " \n",
    " **Confution Metrix**\n",
    " \n",
    "| | Predicted Negtive  |  Predicted Possitive |\n",
    "|:---:|:---:|:---:|\n",
    "|Actual Negative | True Negative (TN) | False Positive (FP)  |\n",
    "|Actual Possitve | False Negative (FN)| True Positive (TP)   |\n",
    "  \n",
    "   **Precision**: What fraction of positive predictions are correct?\n",
    "           TP / Total Positive Prediction = TP / TP + FP\n",
    "           \n",
    "   **Recall** : What fraction of positive cases you predicted correctly?\n",
    "           TP / Total Positive Cases = TP / TP + FN\n",
    "           "
   ]
  }
 ],
 "metadata": {
  "kernelspec": {
   "display_name": "Python 3",
   "language": "python",
   "name": "python3"
  },
  "language_info": {
   "codemirror_mode": {
    "name": "ipython",
    "version": 3
   },
   "file_extension": ".py",
   "mimetype": "text/x-python",
   "name": "python",
   "nbconvert_exporter": "python",
   "pygments_lexer": "ipython3",
   "version": "3.7.4"
  }
 },
 "nbformat": 4,
 "nbformat_minor": 2
}
